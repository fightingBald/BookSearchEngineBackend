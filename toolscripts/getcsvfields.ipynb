{
 "cells": [
  {
   "cell_type": "code",
   "execution_count": 1,
   "metadata": {
    "collapsed": true
   },
   "outputs": [],
   "source": [
    "import pandas as pd"
   ]
  },
  {
   "cell_type": "code",
   "execution_count": 12,
   "outputs": [
    {
     "data": {
      "text/plain": "                                          Title  \\\n0       The Extermination of the American Bison   \n1                          Deadfalls and Snares   \n2                   Artistic Anatomy of Animals   \n3                            Birds, Illustrated   \n4  On Snake-Poison: Its Action and Its Antidote   \n\n                                     Author  \\\n0                       William T. Hornaday   \n1                             A. R. Harding   \n2                             Édouard Cuyer   \n3  Color Photography, Vol. 1, No. 1 Various   \n4                                A. Mueller   \n\n                                    Link     ID Bookshelf  \\\n0  http://www.gutenberg.org/ebooks/17748  17748    Animal   \n1  http://www.gutenberg.org/ebooks/34110  34110    Animal   \n2  http://www.gutenberg.org/ebooks/38315  38315    Animal   \n3  http://www.gutenberg.org/ebooks/30221  30221    Animal   \n4  http://www.gutenberg.org/ebooks/32947  32947    Animal   \n\n                                                Text  \n0  [Illustration: (Inscription) Mr. Theodore Roos...  \n1  DEADFALLS AND SNARES [Frontispiece: A GOOD DEA...  \n2  +---------------------------------------------...  \n3  FROM: THE PRESIDENT OF THE NATIONAL TEACHERS' ...  \n4  [Illustration] ON SNAKE-POISON. ITS ACTION AND...  ",
      "text/html": "<div>\n<style scoped>\n    .dataframe tbody tr th:only-of-type {\n        vertical-align: middle;\n    }\n\n    .dataframe tbody tr th {\n        vertical-align: top;\n    }\n\n    .dataframe thead th {\n        text-align: right;\n    }\n</style>\n<table border=\"1\" class=\"dataframe\">\n  <thead>\n    <tr style=\"text-align: right;\">\n      <th></th>\n      <th>Title</th>\n      <th>Author</th>\n      <th>Link</th>\n      <th>ID</th>\n      <th>Bookshelf</th>\n      <th>Text</th>\n    </tr>\n  </thead>\n  <tbody>\n    <tr>\n      <th>0</th>\n      <td>The Extermination of the American Bison</td>\n      <td>William T. Hornaday</td>\n      <td>http://www.gutenberg.org/ebooks/17748</td>\n      <td>17748</td>\n      <td>Animal</td>\n      <td>[Illustration: (Inscription) Mr. Theodore Roos...</td>\n    </tr>\n    <tr>\n      <th>1</th>\n      <td>Deadfalls and Snares</td>\n      <td>A. R. Harding</td>\n      <td>http://www.gutenberg.org/ebooks/34110</td>\n      <td>34110</td>\n      <td>Animal</td>\n      <td>DEADFALLS AND SNARES [Frontispiece: A GOOD DEA...</td>\n    </tr>\n    <tr>\n      <th>2</th>\n      <td>Artistic Anatomy of Animals</td>\n      <td>Édouard Cuyer</td>\n      <td>http://www.gutenberg.org/ebooks/38315</td>\n      <td>38315</td>\n      <td>Animal</td>\n      <td>+---------------------------------------------...</td>\n    </tr>\n    <tr>\n      <th>3</th>\n      <td>Birds, Illustrated</td>\n      <td>Color Photography, Vol. 1, No. 1 Various</td>\n      <td>http://www.gutenberg.org/ebooks/30221</td>\n      <td>30221</td>\n      <td>Animal</td>\n      <td>FROM: THE PRESIDENT OF THE NATIONAL TEACHERS' ...</td>\n    </tr>\n    <tr>\n      <th>4</th>\n      <td>On Snake-Poison: Its Action and Its Antidote</td>\n      <td>A. Mueller</td>\n      <td>http://www.gutenberg.org/ebooks/32947</td>\n      <td>32947</td>\n      <td>Animal</td>\n      <td>[Illustration] ON SNAKE-POISON. ITS ACTION AND...</td>\n    </tr>\n  </tbody>\n</table>\n</div>"
     },
     "execution_count": 12,
     "metadata": {},
     "output_type": "execute_result"
    }
   ],
   "source": [
    "df = pd.read_csv('../gutenberg_data.csv')\n",
    "\n",
    "df.head()"
   ],
   "metadata": {
    "collapsed": false
   }
  },
  {
   "cell_type": "code",
   "execution_count": 13,
   "outputs": [
    {
     "data": {
      "text/plain": "Index(['Title', 'Author', 'Link', 'ID', 'Bookshelf', 'Text'], dtype='object')"
     },
     "execution_count": 13,
     "metadata": {},
     "output_type": "execute_result"
    }
   ],
   "source": [
    "df.columns"
   ],
   "metadata": {
    "collapsed": false
   }
  },
  {
   "cell_type": "code",
   "execution_count": 6,
   "outputs": [
    {
     "data": {
      "text/plain": "<pandas.io.parsers.readers.TextFileReader at 0x7fe33e438760>"
     },
     "execution_count": 6,
     "metadata": {},
     "output_type": "execute_result"
    }
   ],
   "source": [],
   "metadata": {
    "collapsed": false
   }
  },
  {
   "cell_type": "code",
   "execution_count": null,
   "outputs": [],
   "source": [],
   "metadata": {
    "collapsed": false
   }
  }
 ],
 "metadata": {
  "kernelspec": {
   "display_name": "Python 3",
   "language": "python",
   "name": "python3"
  },
  "language_info": {
   "codemirror_mode": {
    "name": "ipython",
    "version": 2
   },
   "file_extension": ".py",
   "mimetype": "text/x-python",
   "name": "python",
   "nbconvert_exporter": "python",
   "pygments_lexer": "ipython2",
   "version": "2.7.6"
  }
 },
 "nbformat": 4,
 "nbformat_minor": 0
}
